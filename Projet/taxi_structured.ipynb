{
 "cells": [
  {
   "cell_type": "code",
   "execution_count": 24,
   "metadata": {},
   "outputs": [],
   "source": [
    "import pandas as pd\n",
    "import numpy as np\n",
    "import matplotlib.pyplot as plt\n",
    "import heapq\n"
   ]
  },
  {
   "cell_type": "code",
   "execution_count": 25,
   "metadata": {},
   "outputs": [],
   "source": [
    "def read_clean_data():\n",
    "    colum_names=['taxi id', 'date time', 'longitude', 'latitude']\n",
    "\n",
    "    taxi_id = [6275,3015,3557,3579,8179,2560]\n",
    "    df = pd.DataFrame(columns=colum_names)\n",
    "    for i in range(len(taxi_id)):\n",
    "        df_15 = pd.read_csv('taxi_log_2008_by_id/'+str(taxi_id[i])+'.txt', names=colum_names)\n",
    "        df = pd.concat([df, df_15], axis=0)\n",
    "    df = df.drop_duplicates()\n",
    "    df['date time']=pd.to_datetime(df['date time'], format='%Y-%m-%d %H:%M:%S')\n",
    "    df = df.reset_index(drop=True)\n",
    "    df = df[(df['longitude']>=116.215140) & (df['longitude']<=116.586700) & (df['latitude']>=39.757610) & (df['latitude']<=40.079850)]\n",
    "    df = df.reset_index(drop=True)\n",
    "    df['diff'] = df['date time'].diff()\n",
    "    df = df[df['diff']>=pd.Timedelta(seconds=1)]\n",
    "    df = df[df['diff']<=pd.Timedelta(minutes=5)]\n",
    "    df = df.reset_index(drop=True)\n",
    "    return df"
   ]
  },
  {
   "cell_type": "code",
   "execution_count": 26,
   "metadata": {},
   "outputs": [],
   "source": [
    "def connect_two_point(df):\n",
    "    df_connect = df[['longitude', 'latitude']].copy()\n",
    "    df_connect.columns = ['longitude_a', 'latitude_a']\n",
    "    df_connect['longitude_b'] = df['longitude'].shift(-1)\n",
    "    df_connect['latitude_b'] = df['latitude'].shift(-1)\n",
    "    df_connect['diff'] = df['diff'].shift(-1)\n",
    "    df_connect = df_connect.dropna()\n",
    "    df_connect = df_connect.reset_index(drop=True)\n",
    "    df_connect = df_connect.groupby(['longitude_a', 'latitude_a', 'longitude_b', 'latitude_b'])['diff'].mean().reset_index()\n",
    "    return df_connect"
   ]
  },
  {
   "cell_type": "code",
   "execution_count": 27,
   "metadata": {},
   "outputs": [],
   "source": [
    "def create_adjency_list(df_adjency):\n",
    "    df_adjency['point_a'] = df_adjency['longitude_a'].astype(str) + ' ' + df_adjency['latitude_a'].astype(str)\n",
    "    df_adjency['point_b'] = df_adjency['longitude_b'].astype(str) + ' ' + df_adjency['latitude_b'].astype(str)\n",
    "    df_adjency = df_adjency.drop(['longitude_a', 'latitude_a', 'longitude_b', 'latitude_b'], axis=1)\n",
    "\n",
    "    adjacency_list = {}\n",
    "    for index, row in df_adjency.iterrows():\n",
    "        if row['point_a'] not in adjacency_list:\n",
    "            adjacency_list[row['point_a']] = []\n",
    "        adjacency_list[row['point_a']].append((row['point_b'], row['diff'].total_seconds()))\n",
    "\n",
    "    return adjacency_list"
   ]
  },
  {
   "cell_type": "code",
   "execution_count": 28,
   "metadata": {},
   "outputs": [],
   "source": [
    "def find_path(adjacency_list, start, end):\n",
    "    def a_star(adjacency_list, start, goal):\n",
    "        frontier = []\n",
    "        heapq.heappush(frontier, (0, start))\n",
    "        came_from = {}\n",
    "        cost_so_far = {}\n",
    "        came_from[start] = None\n",
    "        cost_so_far[start] = 0\n",
    "\n",
    "        while frontier:\n",
    "            current = heapq.heappop(frontier)[1]\n",
    "\n",
    "            if current == goal:\n",
    "                break\n",
    "\n",
    "            for next in adjacency_list[current]:\n",
    "                new_cost = cost_so_far[current] + next[1]\n",
    "                if next[0] not in cost_so_far or new_cost < cost_so_far[next[0]]:\n",
    "                    cost_so_far[next[0]] = new_cost\n",
    "                    priority = new_cost\n",
    "                    heapq.heappush(frontier, (priority, next[0]))\n",
    "                    came_from[next[0]] = current\n",
    "\n",
    "        return came_from, cost_so_far\n",
    "    \n",
    "    came_from, cost_so_far = a_star(adjacency_list, '116.21612 39.89987', '116.21612 39.89987')\n",
    "    path = []\n",
    "    current = '116.21612 39.89987'\n",
    "    while current != None:\n",
    "        path.append(current)\n",
    "        current = came_from[current]\n",
    "    path.reverse()\n",
    "    return path"
   ]
  },
  {
   "cell_type": "code",
   "execution_count": 29,
   "metadata": {},
   "outputs": [],
   "source": [
    "def to_df(path):\n",
    "    df = pd.DataFrame(path, columns=['point'])\n",
    "    df['longitude'] = df['point'].apply(lambda x: x.split(' ')[0])\n",
    "    df['latitude'] = df['point'].apply(lambda x: x.split(' ')[1])\n",
    "    df = df.drop(['point'], axis=1)\n",
    "    df['longitude'] = df['longitude'].astype(float)\n",
    "    df['latitude'] = df['latitude'].astype(float)\n",
    "    return df"
   ]
  },
  {
   "cell_type": "code",
   "execution_count": 30,
   "metadata": {},
   "outputs": [],
   "source": [
    "def usable_data(df_path,df_connect):\n",
    "    df_path['longitude_a'] = df_path['longitude'].shift(1)\n",
    "    df_path['longitude_b'] = df_path['longitude']\n",
    "    df_path['latitude_a'] = df_path['latitude'].shift(1)\n",
    "    df_path['latitude_b'] = df_path['latitude']\n",
    "    df_path = df_path.dropna()\n",
    "\n",
    "    df_path = df_path.drop(['longitude', 'latitude'], axis=1)\n",
    "\n",
    "    df_path['longitude_a'] = df_path['longitude_a'].astype(float)\n",
    "    df_path['longitude_b'] = df_path['longitude_b'].astype(float)\n",
    "    df_path['latitude_a'] = df_path['latitude_a'].astype(float)\n",
    "    df_path['latitude_b'] = df_path['latitude_b'].astype(float)\n",
    "\n",
    "    df_usable = pd.merge(df_path, df_connect, on=['longitude_a', 'latitude_a', 'longitude_b', 'latitude_b'], how='left')\n",
    "    df_usable = df_usable.drop(['point_a','point_b'], axis=1)\n",
    "\n",
    "    return df_usable\n"
   ]
  },
  {
   "cell_type": "code",
   "execution_count": 31,
   "metadata": {},
   "outputs": [],
   "source": [
    "def all_thing(df_connect,start,end):\n",
    "    adjacency_list = create_adjency_list(df_connect)\n",
    "    path = find_path(adjacency_list, start, end)\n",
    "    df_path = to_df(path)\n",
    "    df_prout = usable_data(df_path,df_connect)\n",
    "    time = df_prout['diff'].sum()\n",
    "    return time, df_path"
   ]
  },
  {
   "cell_type": "code",
   "execution_count": 32,
   "metadata": {},
   "outputs": [],
   "source": [
    "def main():\n",
    "    df = read_clean_data()\n",
    "    df_connect = connect_two_point(df)\n",
    "    time, df_first = all_thing(df_connect, '116.21612 39.89987', '116.21612 39.89987')\n",
    "    print(time)\n",
    "    print(df_first)\n",
    "\n",
    "main()"
   ]
  }
 ],
 "metadata": {
  "kernelspec": {
   "display_name": "Python 3.9.13 ('base')",
   "language": "python",
   "name": "python3"
  },
  "language_info": {
   "codemirror_mode": {
    "name": "ipython",
    "version": 3
   },
   "file_extension": ".py",
   "mimetype": "text/x-python",
   "name": "python",
   "nbconvert_exporter": "python",
   "pygments_lexer": "ipython3",
   "version": "3.9.13"
  },
  "orig_nbformat": 4,
  "vscode": {
   "interpreter": {
    "hash": "153ed0e0dede5b17044ed56a49ca79a0d78e8d763ca21b9e9fbda64f51ed6213"
   }
  }
 },
 "nbformat": 4,
 "nbformat_minor": 2
}
